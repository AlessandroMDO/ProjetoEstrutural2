{
 "cells": [
  {
   "cell_type": "markdown",
   "id": "fc5ad7c6-6348-4c22-9c41-3aef8ee7151d",
   "metadata": {},
   "source": [
    "<h4 align=\"center\">Nome: Alessandro Melo de Oliveira</h4> \n",
    "<h4 align=\"center\">NºUSP: 10788662</h4>\n",
    "\n",
    "---"
   ]
  },
  {
   "cell_type": "markdown",
   "id": "c98a508f-169b-41e2-91ba-96733e8de113",
   "metadata": {},
   "source": [
    "<h3 align=\"center\">SCRIPTS PARA O CÁLCULO DAS MARGENS DE SEGURANÇA</h3> "
   ]
  },
  {
   "cell_type": "code",
   "execution_count": 1,
   "id": "db005601-f225-497c-ad9b-7887aef482b7",
   "metadata": {},
   "outputs": [],
   "source": [
    "import numpy as np\n",
    "from sympy import pi\n",
    "import sympy as sp\n",
    "\n",
    "m,n = sp.symbols('m n')"
   ]
  },
  {
   "cell_type": "code",
   "execution_count": 2,
   "id": "97e2a430-6ea4-4611-936e-30f202fe96cc",
   "metadata": {},
   "outputs": [],
   "source": [
    "E11 = 100e9 #[Pa]\n",
    "E22 = 10e9 #[Pa]\n",
    "v12 = 0.34\n",
    "G12 = 5.4e9 #[Pa]\n",
    "G23 = 3.05e9\n",
    "\n",
    "h = 0.1/1000 # [m]"
   ]
  },
  {
   "cell_type": "code",
   "execution_count": 3,
   "id": "8c59da70-7289-4384-954d-519a58199ef6",
   "metadata": {},
   "outputs": [],
   "source": [
    "h0 = -4*h\n",
    "h1 = -3*h\n",
    "h2 = -2*h\n",
    "h3 = -h\n",
    "h4 = 0 \n",
    "h5 = h\n",
    "h6 = 2*h\n",
    "h7 = 3*h\n",
    "h8 = 4*h"
   ]
  },
  {
   "cell_type": "code",
   "execution_count": 4,
   "id": "f5a80420-97ad-48a2-adb3-3b5b8e768222",
   "metadata": {},
   "outputs": [],
   "source": [
    "Q11_value = (E11**2)/(E11-v12**2 * E22)\n",
    "Q21_value =  (v12*E11*E22)/(E11-v12**2 * E22)\n",
    "Q22_value = (E11*E22)/(E11-v12**2 * E22)\n",
    "Q66_value = G12\n",
    "\n",
    "Q = sp.zeros(3,3)\n",
    "Q[0,0] = Q11_value\n",
    "Q[0,1] = Q21_value\n",
    "Q[0,2] = 0\n",
    "Q[1,0] = Q21_value\n",
    "Q[1,1] = Q22_value\n",
    "Q[1,2] = 0\n",
    "Q[2,0] = 0\n",
    "Q[2,1] = 0\n",
    "Q[2,2] = Q66_value\n",
    "\n",
    "Q11, Q12, Q16, Q22, Q26, Q16, Q66 = sp.symbols('Q11 Q12 Q16 Q22 Q26 Q16 Q66')\n",
    "Q_barra = sp.zeros(3,3)\n",
    "Q_barra[0,0] =  Q11*m**4 + 2*m**2 * n**2 * (Q12 + 2*Q66) + Q22*n**4\n",
    "Q_barra[0,1] = (Q11 + Q22 - 4*Q66)*n**2 * m**2 + Q12*(n**4 + m**4)\n",
    "Q_barra[0,2] = (Q11 - Q12)*n*(m**3) + (Q12 - Q22)*(n**3)*m - 2*m*n*(m**2 - n**2)*Q66\n",
    "Q_barra[1,0] = (Q11 + Q22 - 4*Q66)*n**2 * m**2 + Q12*(n**4 + m**4)\n",
    "Q_barra[1,1] = Q11*n**4 + 2*(Q12 + 2*Q66)*n**2 * m**2 + Q22*m**4\n",
    "Q_barra[1,2] = (Q11 - Q12)*n**3*m + (Q12 - Q22)*n*m**3 + 2*m*n*(m**2 - n**2)*Q66\n",
    "Q_barra[2,0] = (Q11 - Q12)*n*m**3 + (Q12 - Q22)*n**3*m - 2*m*n*(m**2 - n**2)*Q66\n",
    "Q_barra[2,1] = (Q11 - Q12)*(n**3)*m + (Q12 - Q22)*n*(m**3) + 2*m*n*(m**2 - n**2)*Q66\n",
    "Q_barra[2,2] = (Q11 + Q22 - 2*Q12 - 2*Q66)*n**2 * m**2 + Q66*(n**4 + m**4)"
   ]
  },
  {
   "cell_type": "code",
   "execution_count": 5,
   "id": "62a39e36-6160-4777-9f4c-bc71dfe65d3d",
   "metadata": {},
   "outputs": [],
   "source": [
    "# Lâminas com theta = 0\n",
    "Q_barra_0 = Q_barra.subs({\n",
    "    m:sp.cos(0),\n",
    "    n:sp.sin(0),\n",
    "    Q11 :Q11_value,\n",
    "    Q12 : Q21_value,\n",
    "    Q66 : Q66_value,\n",
    "    Q22 : Q22_value\n",
    "})\n",
    "\n",
    "# Lâminas com theta = 45\n",
    "Q_barra_45 = Q_barra.subs({\n",
    "    m:sp.cos(pi/4),\n",
    "    n:sp.sin(pi/4),\n",
    "    Q11 :Q11_value,\n",
    "    Q12 : Q21_value,\n",
    "    Q66 : Q66_value,\n",
    "    Q22 : Q22_value\n",
    "})\n",
    "\n",
    "\n",
    "# Lâminas com theta = -45\n",
    "Q_barra_menos45 = Q_barra.subs({\n",
    "    m:sp.cos(-pi/4),\n",
    "    n:sp.sin(-pi/4),\n",
    "    Q11 : Q11_value,\n",
    "    Q12 : Q21_value,\n",
    "    Q66 : Q66_value,\n",
    "    Q22 : Q22_value\n",
    "})\n",
    "\n",
    "\n",
    "# Lâminas com theta = 90\n",
    "Q_barra_90 = Q_barra.subs({\n",
    "    m:sp.cos(pi/2),\n",
    "    n:sp.sin(pi/2),\n",
    "    Q11 :Q11_value,\n",
    "    Q12 : Q21_value,\n",
    "    Q66 : Q66_value,\n",
    "    Q22 : Q22_value\n",
    "})"
   ]
  },
  {
   "cell_type": "code",
   "execution_count": 6,
   "id": "8c68cad7-801c-4b6c-928a-a32b1730c6fd",
   "metadata": {},
   "outputs": [],
   "source": [
    "Q0 = Q_barra_0\n",
    "Q45 = Q_barra_45\n",
    "Qmenos45 = Q_barra_menos45\n",
    "Q90 = Q_barra_90"
   ]
  },
  {
   "cell_type": "code",
   "execution_count": 7,
   "id": "8a494eb6-14ea-435f-98d1-183d6cde32a5",
   "metadata": {},
   "outputs": [],
   "source": [
    "A = (Q0*(h1-h0) + \n",
    "     Q45*(h2-h1) + \n",
    "     Qmenos45*(h3-h2) + \n",
    "     Q90*(h4-h3) + \n",
    "     Q90*(h5-h4) + \n",
    "     Qmenos45*(h6-h5) + \n",
    "     Q45*(h7-h6) + \n",
    "     Q0*(h8-h7))"
   ]
  },
  {
   "cell_type": "code",
   "execution_count": 8,
   "id": "01646327-4244-4b66-ad95-3f093c691406",
   "metadata": {},
   "outputs": [
    {
     "data": {
      "text/latex": [
       "$\\displaystyle \\left[\\begin{matrix}36233894.2171503 & 11032505.3619845 & 0\\\\11032505.3619845 & 36233894.2171503 & 0\\\\0 & 0 & 12600694.4275829\\end{matrix}\\right]$"
      ],
      "text/plain": [
       "Matrix([\n",
       "[36233894.2171503, 11032505.3619845,                0],\n",
       "[11032505.3619845, 36233894.2171503,                0],\n",
       "[               0,                0, 12600694.4275829]])"
      ]
     },
     "execution_count": 8,
     "metadata": {},
     "output_type": "execute_result"
    }
   ],
   "source": [
    "A"
   ]
  },
  {
   "cell_type": "code",
   "execution_count": 9,
   "id": "c35d1fab-b234-474a-957d-e83943c3744c",
   "metadata": {},
   "outputs": [
    {
     "data": {
      "text/latex": [
       "$\\displaystyle \\left[\\begin{matrix}0 & 0 & 0\\\\0 & 0 & 0\\\\0 & 0 & 0\\end{matrix}\\right]$"
      ],
      "text/plain": [
       "Matrix([\n",
       "[0, 0, 0],\n",
       "[0, 0, 0],\n",
       "[0, 0, 0]])"
      ]
     },
     "execution_count": 9,
     "metadata": {},
     "output_type": "execute_result"
    }
   ],
   "source": [
    "B = sp.zeros(3)\n",
    "B"
   ]
  },
  {
   "cell_type": "code",
   "execution_count": 10,
   "id": "db78769a-d0bc-4cfe-ac39-90b03b11204c",
   "metadata": {},
   "outputs": [
    {
     "data": {
      "text/latex": [
       "$\\displaystyle \\left[\\begin{matrix}3.10791211471275 & 0.50559334169668 & 0.182105135364817\\\\0.50559334169668 & 0.922650490334939 & 0.182105135364817\\\\0.182105135364817 & 0.182105135364817 & 0.589230091861924\\end{matrix}\\right]$"
      ],
      "text/plain": [
       "Matrix([\n",
       "[ 3.10791211471275,  0.50559334169668, 0.182105135364817],\n",
       "[ 0.50559334169668, 0.922650490334939, 0.182105135364817],\n",
       "[0.182105135364817, 0.182105135364817, 0.589230091861924]])"
      ]
     },
     "execution_count": 10,
     "metadata": {},
     "output_type": "execute_result"
    }
   ],
   "source": [
    "D = (Q0*(h1**3-h0**3) + Q45*(h2**3-h1**3) + Qmenos45*(h3**3-h2**3) + Q90*(h4**3-h3**3) + Q90*(h5**3-h4**3) + Qmenos45*(h6**3-h5**3) + Q45*(h7**3-h6**3) + Q0*(h8**3-h7**3))/3\n",
    "D"
   ]
  },
  {
   "cell_type": "code",
   "execution_count": 11,
   "id": "1b7af418-0758-490e-ac05-4a33680665ac",
   "metadata": {},
   "outputs": [],
   "source": [
    "A_ast= A.inv()\n",
    "B_ast= -A.inv() * B\n",
    "C_ast= -B_ast.T\n",
    "D_ast= D - B*A.inv()*B\n",
    "\n",
    "A_linha = A_ast + (B_ast)*(D_ast.inv())*B_ast.T\n",
    "B_linha = (B_ast)*(D_ast.inv())\n",
    "C_linha = B_linha\n",
    "D_linha = D_ast.inv()"
   ]
  },
  {
   "cell_type": "code",
   "execution_count": 26,
   "id": "4bab4e19-68a1-4b51-80ac-d3680a9f36b6",
   "metadata": {},
   "outputs": [
    {
     "data": {
      "text/latex": [
       "$\\displaystyle \\left[\\begin{matrix}3.04185154247681 \\cdot 10^{-8} & -9.26183734257636 \\cdot 10^{-9} & 0\\\\-9.26183734257636 \\cdot 10^{-9} & 3.04185154247681 \\cdot 10^{-8} & 0\\\\0 & 0 & 7.9360705534689 \\cdot 10^{-8}\\end{matrix}\\right]$"
      ],
      "text/plain": [
       "Matrix([\n",
       "[ 3.04185154247681e-8, -9.26183734257636e-9,                  0],\n",
       "[-9.26183734257636e-9,  3.04185154247681e-8,                  0],\n",
       "[                   0,                    0, 7.9360705534689e-8]])"
      ]
     },
     "execution_count": 26,
     "metadata": {},
     "output_type": "execute_result"
    }
   ],
   "source": [
    "A_linha"
   ]
  },
  {
   "cell_type": "code",
   "execution_count": 12,
   "id": "099611c1-8a1b-451b-9edb-fc56b849a363",
   "metadata": {},
   "outputs": [],
   "source": [
    "# Matrizes de transformação\n",
    "T = sp.zeros(3)\n",
    "T[0,0] = m**2 \n",
    "T[0,1] = n**2\n",
    "T[0,2] = 2*m*n\n",
    "T[1,0] = n**2\n",
    "T[1,1] = m**2\n",
    "T[1,2] = -2*m*n\n",
    "T[2,0] = -m*n\n",
    "T[2,1] = m*n\n",
    "T[2,2] = (m**2 - n**2)\n",
    "\n",
    "\n",
    "T_45 = T.subs({\n",
    "    m:sp.cos(pi/4),\n",
    "    n:sp.sin(pi/4)\n",
    "})\n",
    "\n",
    "Tmenos_45 = T.subs({\n",
    "    m:sp.cos(-pi/4),\n",
    "    n:sp.sin(-pi/4)\n",
    "})\n",
    "\n",
    "T_0 = T.subs({\n",
    "    m:sp.cos(0),\n",
    "    n:sp.sin(0)\n",
    "})\n",
    "\n",
    "T_90 = T.subs({\n",
    "    m:sp.cos(pi/2),\n",
    "    n:sp.sin(pi/2)\n",
    "})"
   ]
  },
  {
   "cell_type": "code",
   "execution_count": null,
   "id": "1d1ef472-3f5f-41cf-b7c4-ea450e5e35a9",
   "metadata": {},
   "outputs": [],
   "source": []
  },
  {
   "cell_type": "code",
   "execution_count": null,
   "id": "d0344560-f488-469b-8012-fedf1ea90c07",
   "metadata": {},
   "outputs": [],
   "source": []
  },
  {
   "cell_type": "code",
   "execution_count": 27,
   "id": "e7f6804e-fcec-4b7b-8f09-551e7b794923",
   "metadata": {},
   "outputs": [
    {
     "data": {
      "text/latex": [
       "$\\displaystyle \\left[\\begin{matrix}101169519647.121 & 3439763668.0021 & 0\\\\3439763668.0021 & 10116951964.7121 & 0\\\\0 & 0 & 5400000000.0\\end{matrix}\\right]$"
      ],
      "text/plain": [
       "Matrix([\n",
       "[101169519647.121,  3439763668.0021,            0],\n",
       "[ 3439763668.0021, 10116951964.7121,            0],\n",
       "[               0,                0, 5400000000.0]])"
      ]
     },
     "execution_count": 27,
     "metadata": {},
     "output_type": "execute_result"
    }
   ],
   "source": [
    "Q0"
   ]
  },
  {
   "cell_type": "code",
   "execution_count": null,
   "id": "54a5a1d4-5464-4fe5-a19a-b03a6aff9e71",
   "metadata": {},
   "outputs": [],
   "source": [
    "#Classe que calcua os sigmas e os epsilons\n",
    "class CalculaEpsilonSigma:\n",
    "    \n",
    "    #cargas é um vetor na força [sigma1, sigma2, sigma12]\n",
    "    \n",
    "    def __init__(self, cargas):\n",
    "        self.cargas = cargas\n",
    "        \n",
    "    dict_epsilon_\n",
    "        \n",
    "    episilon0 = A_linha*cargas\n",
    "    K = C_linha*cargas\n",
    "    \n",
    "    #Globais\n",
    "    sigma_0 = Q0*episilon0\n",
    "    sigma_45 = Q45*episilon0\n",
    "    sigma_menos45 = Qmenos45*episilon0\n",
    "    sigma_90 = Q90*episilon0\n",
    "    \n",
    "    #Locais\n",
    "    episilon_0_local = T_0*episilon0\n",
    "    episilon_45_local = T_45*episilon0\n",
    "    episilon_menos45_local = Tmenos_45*episilon0\n",
    "    episilon_90_local = T_90*episilon0\n",
    "\n",
    "    sigma_0_local = T_0*sigma_0\n",
    "    sigma_45_local = T_45*sigma_45\n",
    "    sigma_menos45_local = Tmenos_45*sigma_45\n",
    "    sigma_90_local = T_90*sigma_90"
   ]
  },
  {
   "cell_type": "code",
   "execution_count": null,
   "id": "1a82342c-8253-41d4-8eb3-ba4150f394c8",
   "metadata": {},
   "outputs": [],
   "source": []
  },
  {
   "cell_type": "code",
   "execution_count": null,
   "id": "c4aab70a-f86d-412c-9ab0-90b2626e6159",
   "metadata": {},
   "outputs": [],
   "source": []
  },
  {
   "cell_type": "code",
   "execution_count": null,
   "id": "79f69723-38a7-48e4-9764-11d974ab8c59",
   "metadata": {},
   "outputs": [],
   "source": []
  },
  {
   "cell_type": "code",
   "execution_count": null,
   "id": "5b683a73-c1ef-4462-8920-1eaa34a244a6",
   "metadata": {},
   "outputs": [],
   "source": []
  },
  {
   "cell_type": "code",
   "execution_count": null,
   "id": "be4729ef-bc8d-4e35-a0ad-9fbdf107050a",
   "metadata": {},
   "outputs": [],
   "source": []
  },
  {
   "cell_type": "code",
   "execution_count": null,
   "id": "41b775d8-7312-4eec-99f4-edb7fb770045",
   "metadata": {},
   "outputs": [],
   "source": []
  },
  {
   "cell_type": "code",
   "execution_count": null,
   "id": "26637034-606b-4edd-a2d8-9d99d46126bc",
   "metadata": {},
   "outputs": [],
   "source": []
  },
  {
   "cell_type": "code",
   "execution_count": null,
   "id": "ac2b9ed4-0d43-478f-990d-fd6442e6d36e",
   "metadata": {},
   "outputs": [],
   "source": []
  },
  {
   "cell_type": "code",
   "execution_count": null,
   "id": "29521b5c-a630-41bc-9445-bfcab1c562a4",
   "metadata": {},
   "outputs": [],
   "source": []
  },
  {
   "cell_type": "code",
   "execution_count": null,
   "id": "0f9e3930-b606-4162-aca8-54163c41993f",
   "metadata": {},
   "outputs": [],
   "source": []
  },
  {
   "cell_type": "code",
   "execution_count": null,
   "id": "5cc6171a-f8a7-49db-83aa-a97e7692ba74",
   "metadata": {},
   "outputs": [],
   "source": []
  },
  {
   "cell_type": "code",
   "execution_count": null,
   "id": "ae874458-a068-48b9-b3a1-95ae2b3ce559",
   "metadata": {},
   "outputs": [],
   "source": []
  },
  {
   "cell_type": "code",
   "execution_count": null,
   "id": "1185a619-4556-4087-837b-a1e3c4ae89f3",
   "metadata": {},
   "outputs": [],
   "source": []
  },
  {
   "cell_type": "code",
   "execution_count": null,
   "id": "169ca345-9029-494e-b008-8eeeacfeca8d",
   "metadata": {},
   "outputs": [],
   "source": []
  },
  {
   "cell_type": "code",
   "execution_count": null,
   "id": "fa774ba1-03ba-4ab1-9686-1575df210728",
   "metadata": {},
   "outputs": [],
   "source": []
  },
  {
   "cell_type": "code",
   "execution_count": null,
   "id": "3ab0ecb8-66ed-43f8-a1d6-e26236b38330",
   "metadata": {},
   "outputs": [],
   "source": []
  },
  {
   "cell_type": "code",
   "execution_count": null,
   "id": "57a3161f-b1d2-48a4-8138-713c7b6ced71",
   "metadata": {},
   "outputs": [],
   "source": []
  },
  {
   "cell_type": "code",
   "execution_count": null,
   "id": "ed273404-d050-4d2f-a14d-9e8956ffe3da",
   "metadata": {},
   "outputs": [],
   "source": []
  },
  {
   "cell_type": "code",
   "execution_count": null,
   "id": "b104e8ab-471a-401b-91a7-170b243b2c4f",
   "metadata": {},
   "outputs": [],
   "source": []
  },
  {
   "cell_type": "code",
   "execution_count": null,
   "id": "7ba4e2ad-f1be-41f9-952a-ab594f9c8620",
   "metadata": {},
   "outputs": [],
   "source": []
  },
  {
   "cell_type": "code",
   "execution_count": null,
   "id": "9ddbdff7-b84c-4c6a-82ad-009e7b862694",
   "metadata": {},
   "outputs": [],
   "source": []
  },
  {
   "cell_type": "code",
   "execution_count": null,
   "id": "186423b4-fd18-4704-ab66-4f74ade305ea",
   "metadata": {},
   "outputs": [],
   "source": []
  },
  {
   "cell_type": "markdown",
   "id": "7c59ba87-1582-45b6-8054-4938d3386bdd",
   "metadata": {},
   "source": [
    "#### Casos de carga"
   ]
  },
  {
   "cell_type": "raw",
   "id": "31703d9d-73fe-4aff-8e39-ebb93337009c",
   "metadata": {},
   "source": [
    "# Caso 1 - Rajada ascendente\n",
    "N1 = sp.Matrix([1000000,0,0]) #caso de carga 1\n",
    "\n",
    "#Global\n",
    "episilon0_caso1 = A_linha*N1\n",
    "K_caso1 = C_linha*N1\n",
    "\n",
    "sigma_0_caso1 = Q0*episilon0_caso1\n",
    "sigma_45_caso1 = Q45*episilon0_caso1\n",
    "sigma_menos45_caso1 = Qmenos45*episilon0_caso1\n",
    "sigma_90_caso1 = Q90*episilon0_caso1\n",
    "\n",
    "#Local\n",
    "episilon_0_local_caso1 = T_0*episilon0_caso1\n",
    "episilon_45_local_caso1 = T_45*episilon0_caso1\n",
    "episilon_menos45_local_caso1 = Tmenos_45*episilon0_caso1\n",
    "episilon_90_local_caso1 = T_90*episilon0_caso1\n",
    "\n",
    "sigma_0_local_caso1 = T_0*sigma_0_caso1\n",
    "sigma_45_local_caso1 = T_45*sigma_45_caso1\n",
    "sigma_menos45_local_caso1 = Tmenos_45*sigma_45_caso1\n",
    "sigma_90_local_caso1 = T_90*sigma_90_caso1"
   ]
  },
  {
   "cell_type": "raw",
   "id": "dbbfdb81-527b-4da8-ae0c-dae68ed6c04e",
   "metadata": {},
   "source": [
    "# Caso 2 - Rajada descendente\n",
    "N2 = sp.Matrix([1000000,0,0]) #caso de carga 2\n",
    "\n",
    "#Global\n",
    "episilon0_caso2 = A_linha*N2\n",
    "K_caso2 = C_linha*N2\n",
    "\n",
    "sigma_0_caso2 = Q0*episilon0_caso2\n",
    "sigma_45_caso2 = Q45*episilon0_caso2\n",
    "sigma_menos45_caso2 = Qmenos45*episilon0_caso2\n",
    "sigma_90_caso2 = Q90*episilon0_caso2\n",
    "\n",
    "\n",
    "#Local\n",
    "episilon_0_local_caso2 = T_0*episilon0_caso1\n",
    "episilon_45_local_caso2 = T_45*episilon0_caso1\n",
    "episilon_menos45_local_caso2 = Tmenos_45*episilon0_caso1\n",
    "episilon_90_local_caso2 = T_90*episilon0_caso1\n",
    "\n",
    "sigma_0_local_caso2 = T_0*sigma_0_caso2\n",
    "sigma_45_local_caso2 = T_45*sigma_45_caso2\n",
    "sigma_menos45_local_caso2 = Tmenos_45*sigma_45_caso2\n",
    "sigma_90_local_caso2 = T_90*sigma_90_caso2"
   ]
  },
  {
   "cell_type": "code",
   "execution_count": null,
   "id": "d2051d1b-444f-40b1-92bc-1d6a8aea4a5a",
   "metadata": {},
   "outputs": [],
   "source": []
  },
  {
   "cell_type": "markdown",
   "id": "84fcfa9c-9f80-48f4-b6f6-23d80fe549d7",
   "metadata": {},
   "source": [
    "#### Função que calcula a tensão e deformação em cada lâmina no sistema global e local"
   ]
  },
  {
   "cell_type": "code",
   "execution_count": 15,
   "id": "55c50445-517e-4f3f-8644-1e86382f0941",
   "metadata": {},
   "outputs": [],
   "source": [
    "def tensao_deformacao(caso_carregamento, Q_barra_X, z, T_caso, display = False):\n",
    "    \n",
    "    dict_tensao_deformacao_local = {\"sigma\":{\"botton\":[], \"mid\":[], \"top\":[]}, \"epsilon\":{\"botton\":[], \"mid\":[], \"top\":[]}}\n",
    "    dict_tensao_deformacao_global = {\"sigma\":{\"botton\":[], \"mid\":[], \"top\":[]}, \"epsilon\":{\"botton\":[], \"mid\":[], \"top\":[]}}\n",
    "    \n",
    "    #Q_barra é o Q_barra correspondente de cada lâmina\n",
    "    #z é a altura da base de cada lâmina\n",
    "\n",
    "    z_botton = z\n",
    "    z_mid = z + h/2\n",
    "    z_top = z + h\n",
    "    \n",
    "    # Checa se é o primeiro ou o segundo caso de carregamento\n",
    "    if caso_carregamento == 1:\n",
    "        episilon = episilon0_caso1\n",
    "        K = K_caso1\n",
    "    elif caso_carregamento == 2:\n",
    "        episilon = episilon0_caso2\n",
    "        K = K_caso2\n",
    "    \n",
    "    sigma_global_botton = Q_barra_X*(episilon + z_botton*K)\n",
    "    sigma_local_botton = T_caso*sigma_global_botton\n",
    "    epsilon_global_botton = episilon + z_botton*K\n",
    "    epsilon_local_botton = T_caso*epsilon_global_botton\n",
    "\n",
    "    sigma_global_mid = Q_barra_X*(episilon + z_mid*K)\n",
    "    sigma_local_mid = T_caso*sigma_global_mid\n",
    "    epsilon_global_mid = episilon + z_mid*K\n",
    "    epsilon_local_mid = T_caso*epsilon_global_mid\n",
    "\n",
    "    sigma_global_top = Q_barra_X*(episilon + z_top*K)\n",
    "    sigma_local_top = T_caso*sigma_global_top\n",
    "    epsilon_global_top = episilon + z_top*K\n",
    "    epsilon_local_top = T_caso*epsilon_global_top\n",
    "    \n",
    "    \n",
    "    dict_tensao_deformacao_global['sigma']['botton'] = sigma_global_botton/1e6\n",
    "    dict_tensao_deformacao_global['sigma']['mid'] = sigma_global_mid/1e6\n",
    "    dict_tensao_deformacao_global['sigma']['top'] = sigma_global_top/1e6\n",
    "    dict_tensao_deformacao_global['epsilon']['botton'] =epsilon_global_botton\n",
    "    dict_tensao_deformacao_global['epsilon']['mid'] = epsilon_global_mid\n",
    "    dict_tensao_deformacao_global['epsilon']['top'] = epsilon_global_top\n",
    "    \n",
    "\n",
    "    dict_tensao_deformacao_local['sigma']['botton'] = sigma_local_botton/1e6\n",
    "    dict_tensao_deformacao_local['sigma']['mid'] = sigma_local_mid/1e6\n",
    "    dict_tensao_deformacao_local['sigma']['top'] = sigma_local_top/1e6\n",
    "    dict_tensao_deformacao_local['epsilon']['botton'] =epsilon_local_botton\n",
    "    dict_tensao_deformacao_local['epsilon']['mid'] = epsilon_local_mid\n",
    "    dict_tensao_deformacao_local['epsilon']['top'] = epsilon_local_top\n",
    "    \n",
    "    if display == True:\n",
    "        #Printando tensões em [MPa] e deformações em [mm]\n",
    "        print(\"BOTTON\")\n",
    "        print(\"SIGMA_GLOBAL: {}\".format(sigma_global_botton/1e6))\n",
    "        print(\"EPSILON_GLOBAL: {}\".format(1000*epsilon_global_botton))\n",
    "        print(\"SIGMA_LOCAL: {}\".format(sigma_local_botton/1e6))\n",
    "        print(\"EPSILON_LOCAL: {}\".format(1000*epsilon_local_botton))\n",
    "\n",
    "        print(\"----------------------------------------------------\")\n",
    "        print(\"MID\")\n",
    "        print(\"SIGMA_GLOBAL: {}\".format(sigma_global_mid/1e6))\n",
    "        print(\"EPSILON_GLOBAL: {}\".format(1000*epsilon_global_mid))\n",
    "        print(\"SIGMA_LOCAL: {}\".format(sigma_local_mid/1e6))\n",
    "        print(\"EPSILON_LOCAL: {}\".format(1000*epsilon_local_mid))\n",
    "        print(\"----------------------------------------------------\")\n",
    "        print(\"TOP\")\n",
    "        print(\"SIGMA_GLOBAL: {}\".format(sigma_global_top/1e6))\n",
    "        print(\"EPSILON_GLOBAL: {}\".format(1000*epsilon_global_top))\n",
    "        print(\"SIGMA_LOCAL: {}\".format(sigma_local_top/1e6))\n",
    "        print(\"EPSILON_LOCAL: {}\".format(1000*epsilon_local_top))\n",
    "        print(\"----------------------------------------------------\")\n",
    "\n",
    "        #Retornando tensões em [MPa] e deformacoes em [m]\n",
    "        #return sigma_local_botton/1e6, epsilon_local_botton, sigma_local_mid/1e6, epsilon_local_mid, sigma_local_top/1e6, epsilon_local_top\n",
    "    return dict_tensao_deformacao_local"
   ]
  },
  {
   "cell_type": "code",
   "execution_count": 17,
   "id": "ae6d6ba0-12f2-482f-92a1-bdf3aa3e21f6",
   "metadata": {},
   "outputs": [
    {
     "name": "stdout",
     "output_type": "stream",
     "text": [
      "BOTTON\n",
      "SIGMA_GLOBAL: Matrix([[3045.56806231239], [10.9309406928575], [0]])\n",
      "EPSILON_GLOBAL: Matrix([[30.4185154247681], [-9.26183734257636], [0]])\n",
      "SIGMA_LOCAL: Matrix([[3045.56806231239], [10.9309406928575], [0]])\n",
      "EPSILON_LOCAL: Matrix([[30.4185154247681], [-9.26183734257636], [0]])\n",
      "----------------------------------------------------\n",
      "MID\n",
      "SIGMA_GLOBAL: Matrix([[3045.56806231239], [10.9309406928575], [0]])\n",
      "EPSILON_GLOBAL: Matrix([[30.4185154247681], [-9.26183734257636], [0]])\n",
      "SIGMA_LOCAL: Matrix([[3045.56806231239], [10.9309406928575], [0]])\n",
      "EPSILON_LOCAL: Matrix([[30.4185154247681], [-9.26183734257636], [0]])\n",
      "----------------------------------------------------\n",
      "TOP\n",
      "SIGMA_GLOBAL: Matrix([[3045.56806231239], [10.9309406928575], [0]])\n",
      "EPSILON_GLOBAL: Matrix([[30.4185154247681], [-9.26183734257636], [0]])\n",
      "SIGMA_LOCAL: Matrix([[3045.56806231239], [10.9309406928575], [0]])\n",
      "EPSILON_LOCAL: Matrix([[30.4185154247681], [-9.26183734257636], [0]])\n",
      "----------------------------------------------------\n"
     ]
    }
   ],
   "source": [
    "# Caso de carga 1 - Rajada ascendente\n",
    "\n",
    "#Lâmina 1, z = -4*h, Q_barra_0\n",
    "lamina1_sigma_epsilon_caso1 = tensao_deformacao(1, Q_barra_X = Q_barra_0, z = -4*h, T_caso = T_0, display = True)\n",
    "\n",
    "#Lâmina 2, z = -3*h, Q_barra_45\n",
    "lamina2_sigma_epsilon_caso1 = tensao_deformacao(1, Q_barra_X = Q_barra_45, z = -3*h, T_caso = T_45)\n",
    "\n",
    "#Lâmina 3, z = -2*h, Q_barra_menos45\n",
    "lamina3_sigma_epsilon_caso1 = tensao_deformacao(1, Q_barra_X = Q_barra_menos45, z = -2*h, T_caso = Tmenos_45)\n",
    "\n",
    "#Lâmina 4, z = -h, Q_barra_90\n",
    "lamina4_sigma_epsilon_caso1 = tensao_deformacao(1, Q_barra_X = Q_barra_90, z = -h, T_caso = T_90)\n",
    "\n",
    "#Lâmina 5, z = 0, Q_barra_90\n",
    "lamina5_sigma_epsilon_caso1 = tensao_deformacao(1, Q_barra_X = Q_barra_90, z = 0, T_caso = T_90)\n",
    "\n",
    "#Lâmina 6, z = h, Q_barra_menos45\n",
    "lamina6_sigma_epsilon_caso1 = tensao_deformacao(1, Q_barra_X = Q_barra_menos45, z = h, T_caso = Tmenos_45)\n",
    "\n",
    "#Lâmina 7, z = 2*h, Q_barra_45\n",
    "lamina7_sigma_epsilon_caso1 = tensao_deformacao(1, Q_barra_X = Q_barra_45, z = 2*h, T_caso = T_45)\n",
    "\n",
    "#Lâmina 8, z = 3*h, Q_barra_0\n",
    "lamina8_sigma_epsilon_caso1 = tensao_deformacao(1, Q_barra_X = Q_barra_0, z = 3*h, T_caso = T_0)"
   ]
  },
  {
   "cell_type": "code",
   "execution_count": 18,
   "id": "c14ad4ff-f1b7-45bd-be3f-fb5f3d5129b3",
   "metadata": {},
   "outputs": [],
   "source": [
    "# Caso de carga 2 - Rajada descendente\n",
    "\n",
    "#Lâmina 1, z = -4*h, Q_barra_0\n",
    "lamina1_sigma_epsilon_caso2 = tensao_deformacao(2, Q_barra_X = Q_barra_0, z = -4*h, T_caso = T_0)\n",
    "\n",
    "#Lâmina 2, z = -3*h, Q_barra_45\n",
    "lamina2_sigma_epsilon_caso2 = tensao_deformacao(2, Q_barra_X = Q_barra_45, z = -3*h, T_caso = T_45)\n",
    "\n",
    "#Lâmina 3, z = -2*h, Q_barra_menos45\n",
    "lamina3_sigma_epsilon_caso2 = tensao_deformacao(2, Q_barra_X = Q_barra_menos45, z = -2*h, T_caso = Tmenos_45)\n",
    "\n",
    "#Lâmina 4, z = -h, Q_barra_90\n",
    "lamina4_sigma_epsilon_caso2 = tensao_deformacao(2, Q_barra_X = Q_barra_90, z = -h, T_caso = T_90)\n",
    "\n",
    "#Lâmina 5, z = 0, Q_barra_90\n",
    "lamina5_sigma_epsilon_caso2 = tensao_deformacao(2, Q_barra_X = Q_barra_90, z = 0, T_caso = T_90)\n",
    "\n",
    "#Lâmina 6, z = h, Q_barra_menos45\n",
    "lamina6_sigma_epsilon_caso2 = tensao_deformacao(2, Q_barra_X = Q_barra_menos45, z = h, T_caso = Tmenos_45)\n",
    "\n",
    "#Lâmina 7, z = 2*h, Q_barra_45\n",
    "lamina7_sigma_epsilon_caso2 = tensao_deformacao(2, Q_barra_X = Q_barra_45, z = 2*h, T_caso = T_45)\n",
    "\n",
    "#Lâmina 8, z = 3*h, Q_barra_0\n",
    "lamina8_sigma_epsilon_caso2 = tensao_deformacao(2, Q_barra_X = Q_barra_0, z = 3*h, T_caso = T_0)"
   ]
  },
  {
   "cell_type": "markdown",
   "id": "7bc27679-9c1e-4890-8009-4b5ab85497c0",
   "metadata": {},
   "source": [
    "#### Funções que calculam as margens de segurança"
   ]
  },
  {
   "cell_type": "code",
   "execution_count": 19,
   "id": "35e000c0-f56e-4e39-925f-e8ba79b09af5",
   "metadata": {},
   "outputs": [],
   "source": [
    "class criterios:\n",
    "        \n",
    "    def __init__(self, lamina_sigma_epsilon):\n",
    "        \n",
    "        self.dict_margens = {\"botton\" : {\"max_tensao\": {}, \"max_deformacao\": {}, \"tsai_wu\": {}, \"tsai_hill\":{}},\n",
    "                \"mid\":{\"max_tensao\": {}, \"max_deformacao\": {}, \"tsai_wu\": {}, \"tsai_hill\":{}},\n",
    "                \"top\":{\"max_tensao\": {}, \"max_deformacao\": {}, \"tsai_wu\": {}, \"tsai_hill\":{}}}\n",
    "               \n",
    "        self.lamina = lamina_sigma_epsilon\n",
    "        \n",
    "        #[MPa]\n",
    "        self.XT = 1400\n",
    "        self.YT = 47\n",
    "        self.XC = -930\n",
    "        self.YC = -130\n",
    "        self.S12 = 53\n",
    "\n",
    "        #[m]\n",
    "        self.XT_linha = 0.025\n",
    "        self.YT_linha = 0.2/100\n",
    "        self.XC_linha = -1/100\n",
    "        self.YC_linha = -1.8/100\n",
    "        self.S12_linha = 3/100\n",
    "        \n",
    "    def max_tensao(self, lamina):\n",
    "        \n",
    "        sigma_1 = lamina[0] \n",
    "        sigma_2 = lamina[1]\n",
    "        sigma_12 = lamina[2]\n",
    "        \n",
    "        if sigma_1 > 0:\n",
    "            MS_1 = self.XT/sigma_1 - 1\n",
    "        else:\n",
    "            MS_1 = self.XC/sigma_1 - 1 \n",
    "            \n",
    "        if sigma_2 > 0:\n",
    "            MS_2 = self.YT/sigma_2 - 1\n",
    "        else:\n",
    "            MS_2 = self.YC/sigma_2 - 1\n",
    "            \n",
    "        MS_12 = self.S12/abs(sigma_12) - 1\n",
    "        \n",
    "        return sp.Matrix([MS_1,MS_2,MS_12])\n",
    "            \n",
    "    def max_deformacao(self, lamina):\n",
    "        \n",
    "        epsilon_1 = lamina[0] \n",
    "        epsilon_2 = lamina[1]\n",
    "        epsilon_12 = lamina[2]\n",
    "                \n",
    "        if epsilon_1 > 0:\n",
    "            MS_1 = self.XT_linha/epsilon_1 - 1\n",
    "        else:\n",
    "            MS_1 = self.XC_linha/epsilon_1 - 1 \n",
    "            \n",
    "        if epsilon_2 > 0:\n",
    "            MS_2 = self.YT_linha/epsilon_2 - 1\n",
    "        else:\n",
    "            MS_2 = self.YC_linha/epsilon_2 - 1\n",
    "            \n",
    "        MS_12 = self.S12_linha/abs(epsilon_12) - 1\n",
    "        \n",
    "        return sp.Matrix([MS_1,MS_2,MS_12])\n",
    "        \n",
    "    def tsai_wu(self, lamina):\n",
    "        \n",
    "        sigma_1 = lamina[0] \n",
    "        sigma_2 = lamina[1]\n",
    "        sigma_12 = lamina[2]\n",
    "        \n",
    "        \n",
    "        F1 = 1/self.XT + 1/self.XC\n",
    "        F11 = -1/(self.XT*self.XC)\n",
    "        F2 = 1/self.YT + 1/self.YC\n",
    "        F22 = -1/(self.YT*self.YC)\n",
    "        F66 = (1/self.S12)**2\n",
    "        F12 = -0.5*(F11*F22)**.5\n",
    "        \n",
    "        A = F11*sigma_1**2 + F22*sigma_2**2 + F66*sigma_12**2 + 2 *F12*sigma_1*sigma_2\n",
    "        B = F1*sigma_1 + F2*sigma_2\n",
    "        \n",
    "        Sf_menos = abs((-B - (B**2 + 4*A)**.5)/(2*A))\n",
    "        Sf_mais = (-B + (B**2 + 4*A)**.5)/(2*A)\n",
    "        \n",
    "        MS_menos =  Sf_menos - 1\n",
    "        MS_mais = Sf_mais - 1\n",
    "        \n",
    "        return MS_mais\n",
    "        \n",
    "    def tsai_hill(self, lamina):\n",
    "        \n",
    "        sigma_1 = lamina[0] \n",
    "        sigma_2 = lamina[1]\n",
    "        sigma_12 = lamina[2]\n",
    "        \n",
    "        if sigma_1 >0 and sigma_2 > 0:\n",
    "            self.f_sigma = (sigma_1**2)/self.XT**2 + (sigma_2**2)/self.YT**2 - (sigma_1*sigma_2)/self.XT**2 + (sigma_12**2)/self.S12**2\n",
    "        elif sigma_1>0 and sigma_2<0:\n",
    "            self.f_sigma = (sigma_1**2)/self.XT**2 + (sigma_2**2)/self.YC**2 - (sigma_1*sigma_2)/self.XT**2 + (sigma_12**2)/self.S12**2\n",
    "        elif sigma_1<0 and sigma_2<0:\n",
    "            self.f_sigma = (sigma_1**2)/self.XC**2 + (sigma_2**2)/self.YC**2 - (sigma_1*sigma_2)/self.XC**2 + (sigma_12**2)/self.S12**2\n",
    "        elif sigma_1<0 and sigma_2>0:\n",
    "            self.f_sigma = (sigma_1**2)/self.XC**2 + (sigma_2**2)/self.YT**2 - (sigma_1*sigma_2)/self.XC**2 + (sigma_12**2)/self.S12**2\n",
    "        \n",
    "        self.FS = self.f_sigma**.5\n",
    "        self.MS = 1/self.FS - 1\n",
    "        \n",
    "        return self.MS\n",
    "    \n",
    "    def calculo_margens(self):\n",
    "    \n",
    "        for posicao in ['botton', 'mid', 'top']:\n",
    "            \n",
    "            self.dict_margens[posicao]['max_tensao'] = self.max_tensao(self.lamina['sigma'][posicao])\n",
    "            self.dict_margens[posicao]['max_deformacao'] = self.max_deformacao(self.lamina['epsilon'][posicao])\n",
    "            self.dict_margens[posicao]['tsai_wu'] = self.tsai_wu(self.lamina['sigma'][posicao])\n",
    "            self.dict_margens[posicao]['tsai_hill'] = self.tsai_hill(self.lamina['sigma'][posicao])\n",
    "            \n",
    "        return self.dict_margens"
   ]
  },
  {
   "cell_type": "code",
   "execution_count": 20,
   "id": "a74fd9c5-4020-45b0-9ae8-3c9a22718f80",
   "metadata": {},
   "outputs": [],
   "source": [
    "# Margens de segurança caso de carga 1\n",
    "ms_lamina1_caso1 = criterios(lamina1_sigma_epsilon_caso1).calculo_margens()\n",
    "ms_lamina2_caso1 = criterios(lamina2_sigma_epsilon_caso1).calculo_margens()\n",
    "ms_lamina3_caso1 = criterios(lamina3_sigma_epsilon_caso1).calculo_margens()\n",
    "ms_lamina4_caso1 = criterios(lamina4_sigma_epsilon_caso1).calculo_margens()\n",
    "ms_lamina5_caso1 = criterios(lamina5_sigma_epsilon_caso1).calculo_margens()\n",
    "ms_lamina6_caso1 = criterios(lamina6_sigma_epsilon_caso1).calculo_margens()\n",
    "ms_lamina7_caso1 = criterios(lamina7_sigma_epsilon_caso1).calculo_margens()\n",
    "ms_lamina8_caso1 = criterios(lamina8_sigma_epsilon_caso1).calculo_margens()"
   ]
  },
  {
   "cell_type": "code",
   "execution_count": 32,
   "id": "4630b0c0-7b03-47d7-9360-0b96f7b64fcb",
   "metadata": {},
   "outputs": [
    {
     "data": {
      "text/plain": [
       "{'botton': {'max_tensao': Matrix([\n",
       "  [-0.540315641825771],\n",
       "  [  3.29972143483596],\n",
       "  [               zoo]]),\n",
       "  'max_deformacao': Matrix([\n",
       "  [-0.178132145803412],\n",
       "  [  0.94345887691793],\n",
       "  [               zoo]]),\n",
       "  'tsai_wu': -0.539088618383787,\n",
       "  'tsai_hill': -0.542107230932119},\n",
       " 'mid': {'max_tensao': Matrix([\n",
       "  [-0.540315641825771],\n",
       "  [  3.29972143483596],\n",
       "  [               zoo]]),\n",
       "  'max_deformacao': Matrix([\n",
       "  [-0.178132145803412],\n",
       "  [  0.94345887691793],\n",
       "  [               zoo]]),\n",
       "  'tsai_wu': -0.539088618383787,\n",
       "  'tsai_hill': -0.542107230932119},\n",
       " 'top': {'max_tensao': Matrix([\n",
       "  [-0.540315641825771],\n",
       "  [  3.29972143483596],\n",
       "  [               zoo]]),\n",
       "  'max_deformacao': Matrix([\n",
       "  [-0.178132145803412],\n",
       "  [  0.94345887691793],\n",
       "  [               zoo]]),\n",
       "  'tsai_wu': -0.539088618383787,\n",
       "  'tsai_hill': -0.542107230932119}}"
      ]
     },
     "execution_count": 32,
     "metadata": {},
     "output_type": "execute_result"
    }
   ],
   "source": [
    "ms_lamina1_caso1"
   ]
  },
  {
   "cell_type": "code",
   "execution_count": 21,
   "id": "4844d4af-f92f-41e3-97dd-a4a85efe6595",
   "metadata": {},
   "outputs": [],
   "source": [
    "# Margens de segurança caso de carga 2\n",
    "ms_lamina1_caso2 = criterios(lamina1_sigma_epsilon_caso2).calculo_margens()\n",
    "ms_lamina2_caso2 = criterios(lamina2_sigma_epsilon_caso2).calculo_margens()\n",
    "ms_lamina3_caso2 = criterios(lamina3_sigma_epsilon_caso2).calculo_margens()\n",
    "ms_lamina4_caso2 = criterios(lamina4_sigma_epsilon_caso2).calculo_margens()\n",
    "ms_lamina5_caso2 = criterios(lamina5_sigma_epsilon_caso2).calculo_margens()\n",
    "ms_lamina6_caso2 = criterios(lamina6_sigma_epsilon_caso2).calculo_margens()\n",
    "ms_lamina7_caso2 = criterios(lamina7_sigma_epsilon_caso2).calculo_margens()\n",
    "ms_lamina8_caso2 = criterios(lamina8_sigma_epsilon_caso2).calculo_margens()"
   ]
  },
  {
   "cell_type": "code",
   "execution_count": null,
   "id": "07bea6c9-2ec3-4d0f-a995-dee159f8389f",
   "metadata": {},
   "outputs": [],
   "source": []
  },
  {
   "cell_type": "markdown",
   "id": "d1890afc-01b4-4e92-a2f1-f2ecfa71c94c",
   "metadata": {},
   "source": [
    "#### Exraíndo as mínimas margens de segurança"
   ]
  },
  {
   "cell_type": "code",
   "execution_count": 37,
   "id": "a1147788-12d5-4a42-8905-b46686469288",
   "metadata": {},
   "outputs": [],
   "source": [
    "def extract_min(caso):\n",
    "    \n",
    "    if caso == 1:\n",
    "        caso_list = [ms_lamina1_caso1, ms_lamina2_caso1, ms_lamina3_caso1, ms_lamina4_caso1, ms_lamina5_caso1,\n",
    "        ms_lamina6_caso1, ms_lamina7_caso1, ms_lamina8_caso1]\n",
    "    else:\n",
    "        caso_list = [ms_lamina1_caso2, ms_lamina2_caso2, ms_lamina3_caso2, ms_lamina4_caso2, ms_lamina5_caso2,\n",
    "        ms_lamina6_caso2, ms_lamina7_caso2, ms_lamina8_caso2]\n",
    "    \n",
    "    #Max Tensão\n",
    "    sigma1_list_max_tensao = []\n",
    "    sigma_2_list_max_tensao = []\n",
    "    tau12_list_max_tensao = []\n",
    "    \n",
    "    for lamina in caso_list:\n",
    "        for posicao in ['top', 'mid', 'botton']:\n",
    "            sigma1_list_max_tensao.append(lamina[posicao]['max_tensao'][0])\n",
    "            sigma_2_list_max_tensao.append(lamina[posicao]['max_tensao'][1])\n",
    "            tau12_list_max_tensao.append(lamina[posicao]['max_tensao'][2])\n",
    "            \n",
    "    print(\"~~~~~ MAX TENSÃO ~~~~~\")\n",
    "    print(\"min sigma_1: {}\".format(min(sigma1_list_max_tensao)))\n",
    "    print(\"min sigma_2: {}\".format(min(sigma_2_list_max_tensao)))\n",
    "#     print(\"min tau_12: {}\".format(min(tau12_list_max_tensao)))\n",
    "    \n",
    "    \n",
    "    #Max Deformacao\n",
    "    sigma1_list_max_deformacao = []\n",
    "    sigma_2_list_max_deformacao = []\n",
    "    tau12_list_max_deformacao = []\n",
    "    \n",
    "    for lamina in caso_list:\n",
    "        for posicao in ['top', 'mid', 'botton']:\n",
    "            sigma1_list_max_deformacao.append(lamina[posicao]['max_deformacao'][0])\n",
    "            sigma_2_list_max_deformacao.append(lamina[posicao]['max_deformacao'][1])\n",
    "            tau12_list_max_deformacao.append(lamina[posicao]['max_deformacao'][2])\n",
    "            \n",
    "    print(\"~~~~~ MAX DEFORMACAO ~~~~~\")\n",
    "    print(\"min sigma_1: {}\".format(min(sigma1_list_max_deformacao)))\n",
    "    print(\"min sigma_2: {}\".format(min(sigma_2_list_max_deformacao)))\n",
    "#     print(\"min tau_12: {}\".format(min(tau12_list_max_deformacao)))\n",
    "    \n",
    "#     return tau12_list_max_tensao"
   ]
  },
  {
   "cell_type": "code",
   "execution_count": 38,
   "id": "43bba7f7-a15e-45d8-aea5-245cc9612d33",
   "metadata": {},
   "outputs": [
    {
     "name": "stdout",
     "output_type": "stream",
     "text": [
      "~~~~~ MAX TENSÃO ~~~~~\n",
      "min sigma_1: -0.540315641825771\n",
      "min sigma_2: -0.829638622653847\n",
      "~~~~~ MAX DEFORMACAO ~~~~~\n",
      "min sigma_1: -0.178132145803412\n",
      "min sigma_2: -0.934250571664273\n"
     ]
    }
   ],
   "source": [
    "extract_min(1)"
   ]
  }
 ],
 "metadata": {
  "kernelspec": {
   "display_name": "Python 3",
   "language": "python",
   "name": "python3"
  },
  "language_info": {
   "codemirror_mode": {
    "name": "ipython",
    "version": 3
   },
   "file_extension": ".py",
   "mimetype": "text/x-python",
   "name": "python",
   "nbconvert_exporter": "python",
   "pygments_lexer": "ipython3",
   "version": "3.8.8"
  }
 },
 "nbformat": 4,
 "nbformat_minor": 5
}
