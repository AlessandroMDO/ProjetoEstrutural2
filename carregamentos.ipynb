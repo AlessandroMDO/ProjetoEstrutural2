{
 "cells": [
  {
   "cell_type": "code",
   "execution_count": 1,
   "id": "a9b5c93b-e4d5-4510-b06d-f12cf4263c97",
   "metadata": {},
   "outputs": [],
   "source": [
    "n_usp = '10788662'\n",
    "delta = 0.004*int(n_usp[-2:]) + 0.8"
   ]
  },
  {
   "cell_type": "code",
   "execution_count": null,
   "id": "1b25d48d-0073-48c2-a10a-e9651be9ad88",
   "metadata": {},
   "outputs": [],
   "source": []
  },
  {
   "cell_type": "code",
   "execution_count": 2,
   "id": "e49a9c04-ee92-4a03-9e1f-9b90db280f89",
   "metadata": {},
   "outputs": [],
   "source": [
    "# Caso de carga 1: Rajada ascendente\n",
    "n1 = 2.516*delta\n",
    "W_semi_asa = 1000\n",
    "F_lim_1 = 45000 - (n1*W_semi_asa) \n",
    "\n",
    "F1_1=0.75* F_lim_1\n",
    "F2_1=0.25*F_lim_1\n",
    "F3_1=0.1*F_lim_1\n",
    "F4_1=0.15*F_lim_1\n",
    "\n",
    "FS = 1.5\n",
    "\n",
    "F1_1_ulti = F1_1*FS\n",
    "F2_1_ulti = F2_1*FS\n",
    "F3_1_ulti = F3_1*FS\n",
    "F4_1_ulti = F4_1*FS"
   ]
  },
  {
   "cell_type": "code",
   "execution_count": 8,
   "id": "de72c57f-e960-4b69-8e48-a6ee25b9aaac",
   "metadata": {},
   "outputs": [
    {
     "data": {
      "text/plain": [
       "6354.4848"
      ]
     },
     "execution_count": 8,
     "metadata": {},
     "output_type": "execute_result"
    }
   ],
   "source": [
    "F4_1"
   ]
  },
  {
   "cell_type": "code",
   "execution_count": 4,
   "id": "2764a3cd-fd49-472c-b0f7-eb4a3607be12",
   "metadata": {},
   "outputs": [],
   "source": [
    "# Caso de carga 2: Rajada descendente\n",
    "n2 = -2.012*delta\n",
    "W_semi_asa = 1000\n",
    "F_lim_2 = -20000 + (n2*W_semi_asa) \n",
    "\n",
    "F1_2=0.75* F_lim_2\n",
    "F2_2=0.25*F_lim_2\n",
    "F3_2=0.1*F_lim_2\n",
    "F4_2=0.15*F_lim_2\n",
    "\n",
    "FS = 1.5\n",
    "\n",
    "F1_2_ulti = F1_2*FS\n",
    "F2_2_ulti = F2_2*FS\n",
    "F3_2_ulti = F3_2*FS\n",
    "F4_2_ulti = F4_2*FS"
   ]
  },
  {
   "cell_type": "code",
   "execution_count": 12,
   "id": "03192a7d-3bba-405f-8766-16bcb9620036",
   "metadata": {},
   "outputs": [
    {
     "data": {
      "text/plain": [
       "-3316.2864"
      ]
     },
     "execution_count": 12,
     "metadata": {},
     "output_type": "execute_result"
    }
   ],
   "source": [
    "F4_2"
   ]
  }
 ],
 "metadata": {
  "kernelspec": {
   "display_name": "Python 3",
   "language": "python",
   "name": "python3"
  },
  "language_info": {
   "codemirror_mode": {
    "name": "ipython",
    "version": 3
   },
   "file_extension": ".py",
   "mimetype": "text/x-python",
   "name": "python",
   "nbconvert_exporter": "python",
   "pygments_lexer": "ipython3",
   "version": "3.8.8"
  }
 },
 "nbformat": 4,
 "nbformat_minor": 5
}
